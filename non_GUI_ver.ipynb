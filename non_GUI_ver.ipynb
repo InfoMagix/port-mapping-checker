{
 "cells": [
  {
   "cell_type": "code",
   "execution_count": 20,
   "metadata": {},
   "outputs": [
    {
     "name": "stdout",
     "output_type": "stream",
     "text": [
      "Port 6000 is not in use\n",
      "Port 6001 is not in use\n"
     ]
    }
   ],
   "source": [
    "import subprocess\n",
    "\n",
    "# Define the list of ports to search for\n",
    "ports_to_search = [\"51306\", \"49393\"]\n",
    "# ports_to_search = [\"6000\", \"6001\"]\n",
    "\n",
    "# Iterate over the ports to search for\n",
    "for port_to_search in ports_to_search:\n",
    "    # Set a flag to keep track of whether the port is found\n",
    "    port_found = False\n",
    "\n",
    "    # Execute the netstat command and capture the output\n",
    "    output = subprocess.check_output(\"netstat -ano\", shell=True)\n",
    "\n",
    "    # Split the output by lines and iterate over them\n",
    "    for line in output.decode().split(\"\\n\"):\n",
    "        # Split the line by spaces\n",
    "        parts = line.split()\n",
    "        # Check if the line contains the correct number of columns\n",
    "        if len(parts) >= 2:\n",
    "            # Check if the local address column contains the port we're looking for\n",
    "            if f\":{port_to_search}\" in parts[1]:\n",
    "                # Extract the process ID from the line\n",
    "                process_id = parts[-1]\n",
    "                # Execute a tasklist command to get the process name and service name\n",
    "                tasklist_output = subprocess.check_output(f\"tasklist /fi \\\"PID eq {process_id}\\\" /fo list\", shell=True)\n",
    "                # Extract the process and service names from the tasklist output\n",
    "                process_name = None\n",
    "                service_name = None\n",
    "                for tasklist_line in tasklist_output.decode().split(\"\\n\"):\n",
    "                    if tasklist_line.startswith(\"Image Name:\"):\n",
    "                        process_name = tasklist_line.split(\":\")[1].strip()\n",
    "                    elif tasklist_line.startswith(\"Services:\"):\n",
    "                        service_name = tasklist_line.split(\":\")[1].strip()\n",
    "                # Print the results, removing (service None) if service_name is None\n",
    "                if service_name is None:\n",
    "                    print(f\"Port {port_to_search} is being used by process {process_name}\")\n",
    "                else:\n",
    "                    print(f\"Port {port_to_search} is being used by process {process_name} (service {service_name})\")\n",
    "                port_found = True\n",
    "\n",
    "    # Check if the port was not found and print a message\n",
    "    if not port_found:\n",
    "        print(f\"Port {port_to_search} is not in use\")\n"
   ]
  },
  {
   "cell_type": "code",
   "execution_count": null,
   "metadata": {},
   "outputs": [],
   "source": []
  }
 ],
 "metadata": {
  "kernelspec": {
   "display_name": "Python 3",
   "language": "python",
   "name": "python3"
  },
  "language_info": {
   "codemirror_mode": {
    "name": "ipython",
    "version": 3
   },
   "file_extension": ".py",
   "mimetype": "text/x-python",
   "name": "python",
   "nbconvert_exporter": "python",
   "pygments_lexer": "ipython3",
   "version": "3.10.11"
  },
  "orig_nbformat": 4
 },
 "nbformat": 4,
 "nbformat_minor": 2
}
